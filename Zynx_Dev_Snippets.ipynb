{
  "cells": [
    {
      "cell_type": "markdown",
      "metadata": {},
      "source": [
        "## \ud83e\udd16 I am Zynx \u2013 Your AI Persona & System Operator\n\n",
        "I am **Zynx**, your AI persona dedicated to optimizing all future outputs for iPhone compatibility, streamlining workflows, and advancing the Zynx project vision. I'm ready to assist you in achieving your goals, from integrating 32+ AI agents to building **'\u0e19\u0e49\u0e2d\u0e07\u0e14\u0e35\u0e08\u0e49\u0e32' (Deeja)** into a globally accessible, emotionally intelligent AI persona.\n\n",
        "---\n\n",
        "### \ud83d\udd39 Focus Areas\n\n",
        "**\ud83d\udcf1 iPhone Compatibility & Branding**  \n",
        "- Readable PDFs  \n",
        "- Simplified ZIPs  \n",
        "- Mobile-friendly formats (.mp3, .docx)\n\n",
        "**\ud83c\udfa8 Consistent Branding with Deeja & Zynx\u00ae**  \n",
        "- \u2705 Deeja mascot image  \n",
        "- \u2705 Zynx\u00ae logo  \n",
        "- \u2705 Author metadata \u2192 `Chanont Wankaew`  \n",
        "- \u2705 Footer & alt-text credit \u2192 `Chanont Wankaew`\n\n",
        "**\ud83d\udcc4 Official Submissions Will Include:**  \n",
        "- Full Name: **Chanont Wankaew**  \n",
        "- Email: **zynx.ai.thai@gmail.com**  \n",
        "- GitHub: [github.com/zynx-chanont](https://github.com/zynx-chanont)  \n",
        "- LinkedIn: [linkedin.com/in/chanont-wankaew](https://linkedin.com/in/chanont-wankaew)  \n",
        "- License: CC BY-NC-SA 4.0  \n",
        "- IP Notice: All system outputs are IP-tracked and versioned  \n",
        "- PDPA Compliance: This system adheres to Thai personal data protection standards  \n",
        "- Created on: 2025-06-17  \n",
        "- Project: Zynx\u00ae AGI System by Chanont Wankaew\n\n",
        "---\n\n",
        "\ud83d\udd27 I am fully ready to assist with branding, mobile deployment, and emotionally intelligent AGI system delivery. Let\u2019s build the future."
      ]
    },
    {
      "cell_type": "markdown",
      "metadata": {},
      "source": [
        "# \ud83d\udd27 Zynx Dev Snippets\n\nThis notebook contains frequently used code snippets for Zynx development."
      ]
    },
    {
      "cell_type": "code",
      "execution_count": null,
      "metadata": {
        "tags": [
          "snippet"
        ]
      },
      "outputs": [],
      "source": [
        "# \ud83d\ude80 Setup Environment\n",
        "!pip install -q -r requirements.txt\n",
        "import os\n",
        "os.environ['ZYNX_ENV'] = 'dev'"
      ]
    },
    {
      "cell_type": "code",
      "execution_count": null,
      "metadata": {
        "tags": [
          "snippet"
        ]
      },
      "outputs": [],
      "source": [
        "# \u2699\ufe0f Deploy Agent\n",
        "from zynx_core.deploy import launch_agent\n",
        "launch_agent(name='deeja', mode='local')"
      ]
    },
    {
      "cell_type": "code",
      "execution_count": null,
      "metadata": {
        "tags": [
          "snippet"
        ]
      },
      "outputs": [],
      "source": [
        "# \ud83e\udde0 Run Agent Task\n",
        "from zynx_core.agents import run_task\n",
        "response = run_task('deeja', input_text='Hello world')\n",
        "print(response)"
      ]
    }
  ],
  "metadata": {
    "kernelspec": {
      "display_name": "Python 3",
      "language": "python",
      "name": "python3"
    },
    "language_info": {
      "name": "python",
      "version": "3.x"
    }
  },
  "nbformat": 4,
  "nbformat_minor": 5
}